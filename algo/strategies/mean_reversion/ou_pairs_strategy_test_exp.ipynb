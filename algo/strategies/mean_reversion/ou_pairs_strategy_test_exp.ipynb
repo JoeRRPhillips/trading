{
 "cells": [
  {
   "cell_type": "code",
   "execution_count": 1,
   "id": "24f1d70c-3e77-4dee-92d1-1c8c9f23af8d",
   "metadata": {},
   "outputs": [],
   "source": [
    "import math\n",
    "import matplotlib.pyplot as plt\n",
    "import numpy as np\n",
    "import pandas as pd\n",
    "import seaborn as sns\n",
    "import yfinance as yf\n",
    "from collections import namedtuple\n",
    "from datetime import date, datetime, timedelta\n",
    "\n",
    "from algo.sde.ornstein_uhlenbeck_optimisation import OptimiserOU\n",
    "from algo.sde.ornstein_uhlenbeck_parameters import HedgeParamsOU, ModelParamsOU\n",
    "from etl.yfinance_data import get_pairs_data\n",
    "from execution.positions import compute_positions, compute_returns\n",
    "from performance.sharpe import sharpe_ratio_log\n",
    "\n",
    "\n",
    "sns.set_style(\"darkgrid\")"
   ]
  },
  {
   "cell_type": "code",
   "execution_count": 6,
   "id": "7701ee43-3fb0-4319-9d9c-5bb1b7876d10",
   "metadata": {},
   "outputs": [
    {
     "name": "stdout",
     "output_type": "stream",
     "text": [
      "[*********************100%***********************]  1 of 1 completed\n",
      "[*********************100%***********************]  1 of 1 completed\n",
      "\n",
      "Dates Requested: 2021-11-27 to 2022-11-27\n",
      "Dates Received: 2021-11-28 18:00:00-05:00 to 2022-11-25 13:00:00-05:00\n",
      "\n"
     ]
    }
   ],
   "source": [
    "## Get all data\n",
    "\n",
    "# Built for hours\n",
    "interval = \"1h\"\n",
    "\n",
    "# Train on all data so far, or rolling train window.\n",
    "use_fixed_train_size = True\n",
    "\n",
    "# 730 days is the max, includes today.\n",
    "# num_data_full = 24*729\n",
    "num_data_full = 24*365\n",
    "\n",
    "# Size of initial training set. Note: 23 trading days per month.\n",
    "# num_train_initial = 24*23*12\n",
    "num_train_initial = 24*23*6\n",
    "\n",
    "# Size of each test period. Note: 1 futures trading week = 6 days. TODO: start on Sunday?\n",
    "num_test_window = 24*6\n",
    "\n",
    "assert num_data_full >= num_train_initial + num_test_window\n",
    "\n",
    "# Instruments\n",
    "ticker1 = \"BZ=F\"\n",
    "ticker2 = \"CL=F\"\n",
    "\n",
    "# Dates\n",
    "end_date = date.today()\n",
    "start_date = end_date - timedelta(hours=num_data_full)\n",
    "df_full = get_pairs_data(ticker1, ticker2, start_date.strftime(\"%Y-%m-%d\"), end_date.strftime(\"%Y-%m-%d\"), interval=interval)\n",
    "\n",
    "print(f\"\\nDates Requested: {start_date} to {end_date}\")\n",
    "print(f\"Dates Received: {df_full.index[0]} to {df_full.index[-1]}\\n\")"
   ]
  },
  {
   "cell_type": "code",
   "execution_count": 7,
   "id": "4c3c408e-a533-4306-90f6-308de4798d7a",
   "metadata": {},
   "outputs": [],
   "source": [
    "## Fit model on initial training data\n",
    "\n",
    "# Model Input Parameters\n",
    "dt = 1   # Let one unit of time be equivalent to one step in the data.\n",
    "A = 1.0  # For every $A long/short in asset1, we go $B short/long in asset2.\n",
    "\n",
    "# Entry/Exit Signals - Z-score\n",
    "z_entry = 1.0\n",
    "z_exit = 0.25"
   ]
  },
  {
   "cell_type": "code",
   "execution_count": 8,
   "id": "0f9b2039-d339-4455-9000-f369cb57480b",
   "metadata": {},
   "outputs": [
    {
     "name": "stdout",
     "output_type": "stream",
     "text": [
      "Requested: 8760. Received: 5169. Updating num_data_full...\n",
      "\tnum_train_initial = 3312\n",
      "\tnum_test_window = 1440\n",
      "\tnum_data_full = 5169\n",
      "iterations = 1\n"
     ]
    }
   ],
   "source": [
    "if len(df_full) < num_data_full:\n",
    "    print(f\"Requested: {num_data_full}. Received: {len(df_full)}. Updating num_data_full...\")\n",
    "    num_data_full = len(df_full)\n",
    "    assert num_data_full >= num_train_initial + num_test_window\n",
    "    \n",
    "print(f\"\\tnum_train_initial = {num_train_initial}\")\n",
    "print(f\"\\tnum_test_window = {num_test_window}\")\n",
    "print(f\"\\tnum_data_full = {num_data_full}\")\n",
    "\n",
    "num_iter = math.floor((num_data_full - num_train_initial) / num_test_window)\n",
    "print(f\"iterations = {num_iter}\")\n",
    "\n",
    "\n",
    "# TODO: back-calculate (data_size_full-train_size_initial) % test_size_window\n",
    "start_train_index = (num_data_full - num_train_initial) % num_test_window\n",
    "\n",
    "\n",
    "end_train_index = start_train_index + num_train_initial\n",
    "end_test_index = end_train_index + num_test_window"
   ]
  },
  {
   "cell_type": "markdown",
   "id": "f0d29409-0133-4f8e-8e37-2b54df59165b",
   "metadata": {},
   "source": [
    "Note: this doesn't carry positions over.\n",
    "- I.e. if you buy in one week and sell in the next, the test fails to capture this or close the position.\n",
    "- For this, move to e.g. backtrader."
   ]
  },
  {
   "cell_type": "code",
   "execution_count": 9,
   "id": "830d363d-bb37-4d20-be79-c920f282e79d",
   "metadata": {},
   "outputs": [
    {
     "name": "stdout",
     "output_type": "stream",
     "text": [
      "Iteration 0\n",
      "\tStart Train: 2021-12-28 03:00:00-05:00 | End Train: 2022-08-16 02:00:00-04:00\n",
      "\tStart Test:  2022-08-16 03:00:00-04:00 | End Test:  2022-11-25 13:00:00-05:00\n",
      "\t\treturns_cml    = 0.88\n",
      "\t\treturns_cml_S1 = 0.89\n",
      "\t\treturns_cml_S2 = 0.86\n",
      "Sharpe Ratio Test Annual = -0.28828684183135295\n"
     ]
    },
    {
     "name": "stderr",
     "output_type": "stream",
     "text": [
      "/Users/joe/miniforge3/envs/ml/lib/python3.9/site-packages/pandas/core/arraylike.py:405: RuntimeWarning: divide by zero encountered in log\n",
      "  result = getattr(ufunc, method)(*inputs, **kwargs)\n"
     ]
    }
   ],
   "source": [
    "positions = []\n",
    "\n",
    "# while end_test_index <= num_data_full:\n",
    "for i in range(num_iter):\n",
    "    print(f\"Iteration {i}\")\n",
    "    \n",
    "    # Build datasets\n",
    "    df_train_test = df_full.iloc[start_train_index : end_test_index].copy()\n",
    "    df_train = df_train_test.head(len(df_train_test) - num_test_window).copy()\n",
    "    print(f\"\\tStart Train: {df_train.index[0]} | End Train: {df_train.index[-1]}\")\n",
    "    \n",
    "    # Cointegration pre-tade checks\n",
    "    # TODO\n",
    "    \n",
    "    # Train Model\n",
    "    optimiser_train = OptimiserOU(A=A, dt=dt)\n",
    "    try:\n",
    "        hp_train, _ = optimiser_train.optimise(asset1=df_train[\"S1\"].to_numpy(), asset2=df_train[\"S2\"].to_numpy())\n",
    "    except AssertionError as e:\n",
    "        print(f\"Training Yielded {e}. Skipping.\")\n",
    "        continue\n",
    "              \n",
    "    alpha = hp_train.alpha\n",
    "    beta = hp_train.beta\n",
    "\n",
    "    # Compute spreads using (alpha, beta) calibrated in training.\n",
    "    df_train_test[\"spread\"] = alpha*df_train_test[\"S1\"] - beta*df_train_test[\"S2\"]\n",
    "    \n",
    "    # Allow the expanding metrics to roll from train to test.\n",
    "    df_train_test[\"zscore_expanding\"] = (df_train_test[\"spread\"] - df_train_test[\"spread\"].expanding().mean()) / df_train_test[\"spread\"].expanding().std()\n",
    "\n",
    "    df_test = df_train_test.tail(num_test_window).copy()\n",
    "    print(f\"\\tStart Test:  {df_test.index[0]} | End Test:  {df_test.index[-1]}\")\n",
    "\n",
    "    # Plot expanding\n",
    "    # xmin=df_train.index[0]\n",
    "    # xmax=df_test.index[-1]\n",
    "    # plt.figure(figsize=(12, 4))\n",
    "    # TODO: train_test, hue=<label_to_be_added>\n",
    "    # plt.plot(df_train.index, df_train[\"zscore_expanding\"], color=\"blue\", label=\"spread_train\")\n",
    "    # plt.plot(df_test.index, df_test[\"zscore_expanding\"], color=\"orange\", label=\"spread_test\")\n",
    "    # plt.hlines(z_entry, label=\"short\", colors=\"red\", linestyle=\"dotted\", xmin=xmin, xmax=xmax)\n",
    "    # plt.hlines(-z_entry, label=\"long\", colors=\"green\", linestyle=\"dotted\", xmin=xmin, xmax=xmax)\n",
    "    # plt.hlines(z_exit, label=\"exit\", colors=\"blue\", linestyle=\"dotted\", xmin=xmin, xmax=xmax)\n",
    "    # plt.hlines(-z_exit, label=\"exit\", colors=\"blue\", linestyle=\"dotted\", xmin=xmin, xmax=xmax)\n",
    "    # plt.legend()\n",
    "    # plt.title(\"Expanding Metrics on Z-Score\")\n",
    "    # plt.show()\n",
    "    \n",
    "    # Save plots: name contains date of W/C.\n",
    "\n",
    "    # Trade entry/exit signals.\n",
    "    threshold_col = \"zscore_expanding\"\n",
    "    df_test[\"long\"] = 1.0 * (df_test[threshold_col] <= -z_entry)\n",
    "    df_test[\"short\"] = 1.0 * (df_test[threshold_col] >= z_entry)\n",
    "    df_test[\"exit\"] = 1.0 * (np.abs(df_test[threshold_col]) <= z_exit)\n",
    "    \n",
    "    df_test = df_test.pipe(compute_positions)\n",
    "    df_test = df_test.pipe(compute_returns)\n",
    "    # df_test[[\"returns_cml\", \"returns_cml_S1\", \"returns_cml_S2\"]].plot()\n",
    "    # plt.title(\"Test Set\")\n",
    "    # plt.show()\n",
    "    \n",
    "    # Positions in price-space. Sharpe formula transforms to (log-)returns-space internally.\n",
    "    positions.extend(df_test[\"total\"].tolist())\n",
    "\n",
    "    \n",
    "    # After `num_test_window` data points elapses, add to training set.\n",
    "    end_train_index += num_test_window\n",
    "    end_test_index += num_test_window\n",
    "    \n",
    "    if use_fixed_train_size:\n",
    "        start_train_index += num_test_window\n",
    "    \n",
    "    print(f\"\\t\\treturns_cml    = {df_test['returns_cml'].iloc[-1]:.2f}\")\n",
    "    print(f\"\\t\\treturns_cml_S1 = {df_test['returns_cml_S1'].iloc[-1]:.2f}\")\n",
    "    print(f\"\\t\\treturns_cml_S2 = {df_test['returns_cml_S2'].iloc[-1]:.2f}\")\n",
    "\n",
    "    \n",
    "df_pos = pd.DataFrame(columns=[\"total\"])\n",
    "df_pos[\"total\"] = positions\n",
    "    \n",
    "sharpe_ratio = sharpe_ratio_log(df_pos, colname=\"total\")\n",
    "sharpe_ratio_annual = sharpe_ratio*np.sqrt(23*252)\n",
    "print(f\"Sharpe Ratio Test Annual = {sharpe_ratio_annual}\")"
   ]
  },
  {
   "cell_type": "code",
   "execution_count": null,
   "id": "81b1bbc9-210e-4b9a-aa8f-3ac1fc80c04f",
   "metadata": {},
   "outputs": [],
   "source": []
  }
 ],
 "metadata": {
  "kernelspec": {
   "display_name": "ml",
   "language": "python",
   "name": "ml"
  },
  "language_info": {
   "codemirror_mode": {
    "name": "ipython",
    "version": 3
   },
   "file_extension": ".py",
   "mimetype": "text/x-python",
   "name": "python",
   "nbconvert_exporter": "python",
   "pygments_lexer": "ipython3",
   "version": "3.9.13"
  }
 },
 "nbformat": 4,
 "nbformat_minor": 5
}
