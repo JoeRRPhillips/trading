{
 "cells": [
  {
   "cell_type": "code",
   "execution_count": 1,
   "id": "17781b4e-ef54-429a-b7d9-ade32d73b3b4",
   "metadata": {},
   "outputs": [],
   "source": [
    "import math\n",
    "import matplotlib.pyplot as plt\n",
    "import numpy as np\n",
    "import pandas as pd\n",
    "import seaborn as sns\n",
    "import yfinance as yf\n",
    "from collections import namedtuple\n",
    "from datetime import date, timedelta\n",
    "\n",
    "\n",
    "sns.set_style(\"darkgrid\")"
   ]
  },
  {
   "cell_type": "code",
   "execution_count": 2,
   "id": "f0064565-b139-4480-8d48-8cf110444f0b",
   "metadata": {},
   "outputs": [
    {
     "data": {
      "text/plain": [
       "('2022-09-28', '2022-10-28')"
      ]
     },
     "execution_count": 2,
     "metadata": {},
     "output_type": "execute_result"
    }
   ],
   "source": [
    "today = date.today()\n",
    "end_date = today.strftime(\"%Y-%m-%d\")\n",
    "\n",
    "interval = \"1h\"\n",
    "\n",
    "interval_map = {\n",
    "    \"1m\": timedelta(minutes=360),\n",
    "    \"1h\": timedelta(hours=24*30),\n",
    "    \"1d\": timedelta(days=365),   \n",
    "}\n",
    "\n",
    "\n",
    "start_date = (today - interval_map[interval]).strftime(\"%Y-%m-%d\")\n",
    "\n",
    "start_date, end_date"
   ]
  },
  {
   "cell_type": "code",
   "execution_count": 21,
   "id": "841c3226-c520-4f14-a5ac-116d1a5a8099",
   "metadata": {},
   "outputs": [
    {
     "name": "stdout",
     "output_type": "stream",
     "text": [
      "[*********************100%***********************]  1 of 1 completed\n",
      "[*********************100%***********************]  1 of 1 completed\n"
     ]
    },
    {
     "data": {
      "text/html": [
       "<div>\n",
       "<style scoped>\n",
       "    .dataframe tbody tr th:only-of-type {\n",
       "        vertical-align: middle;\n",
       "    }\n",
       "\n",
       "    .dataframe tbody tr th {\n",
       "        vertical-align: top;\n",
       "    }\n",
       "\n",
       "    .dataframe thead th {\n",
       "        text-align: right;\n",
       "    }\n",
       "</style>\n",
       "<table border=\"1\" class=\"dataframe\">\n",
       "  <thead>\n",
       "    <tr style=\"text-align: right;\">\n",
       "      <th></th>\n",
       "      <th>S1</th>\n",
       "      <th>S2</th>\n",
       "    </tr>\n",
       "  </thead>\n",
       "  <tbody>\n",
       "    <tr>\n",
       "      <th>2022-10-27 13:00:00-04:00</th>\n",
       "      <td>96.849998</td>\n",
       "      <td>89.080002</td>\n",
       "    </tr>\n",
       "    <tr>\n",
       "      <th>2022-10-27 14:00:00-04:00</th>\n",
       "      <td>96.730003</td>\n",
       "      <td>88.790001</td>\n",
       "    </tr>\n",
       "    <tr>\n",
       "      <th>2022-10-27 15:00:00-04:00</th>\n",
       "      <td>97.019997</td>\n",
       "      <td>89.029999</td>\n",
       "    </tr>\n",
       "    <tr>\n",
       "      <th>2022-10-27 16:00:00-04:00</th>\n",
       "      <td>96.610001</td>\n",
       "      <td>88.599998</td>\n",
       "    </tr>\n",
       "    <tr>\n",
       "      <th>2022-10-27 18:00:00-04:00</th>\n",
       "      <td>96.589996</td>\n",
       "      <td>88.589996</td>\n",
       "    </tr>\n",
       "  </tbody>\n",
       "</table>\n",
       "</div>"
      ],
      "text/plain": [
       "                                  S1         S2\n",
       "2022-10-27 13:00:00-04:00  96.849998  89.080002\n",
       "2022-10-27 14:00:00-04:00  96.730003  88.790001\n",
       "2022-10-27 15:00:00-04:00  97.019997  89.029999\n",
       "2022-10-27 16:00:00-04:00  96.610001  88.599998\n",
       "2022-10-27 18:00:00-04:00  96.589996  88.589996"
      ]
     },
     "execution_count": 21,
     "metadata": {},
     "output_type": "execute_result"
    }
   ],
   "source": [
    "# ticker1 = \"GLD\"\n",
    "# ticker2 = \"GDX\"\n",
    "\n",
    "# ticker1 = \"IVW\"\n",
    "# ticker2 = \"SPY\"\n",
    "\n",
    "# ticker1 = \"NG=F\"\n",
    "# ticker2 = \"BZ=F\"\n",
    "\n",
    "ticker1 = \"BZ=F\"\n",
    "ticker2 = \"CL=F\"\n",
    "\n",
    "# ticker1 = \"BNO\"\n",
    "# ticker2 = \"USO\"\n",
    "\n",
    "df1 = yf.download(ticker1, start=start_date, end=end_date, interval=interval)\n",
    "df2 = yf.download(ticker2, start=start_date, end=end_date, interval=interval)\n",
    "\n",
    "# Use common index to align dates.\n",
    "df = pd.DataFrame(index=df1.index)\n",
    "\n",
    "\n",
    "colname = \"Adj Close\"\n",
    "df[\"S1\"] = df1[colname]\n",
    "df[\"S2\"] = df2[colname]\n",
    "\n",
    "df.index = pd.to_datetime(df.index)\n",
    "\n",
    "# Drop missing entries\n",
    "df.dropna(inplace=True)\n",
    "\n",
    "df.tail()"
   ]
  },
  {
   "cell_type": "markdown",
   "id": "dc9fa5f6-ea50-4647-a318-2b37027c7928",
   "metadata": {},
   "source": [
    "Let: \n",
    "\n",
    "    alpha := proportion of asset 1 (S1)\n",
    "    beta  := proportion of asset 2 (S2)\n",
    "    \n",
    "    A := amount (e.g. $) to long asset 1 (S1)\n",
    "    B := amount (e.g. $) to short asset 2 (S2)\n",
    "\n",
    "alpha = A / S1_0.\n",
    "beta  = B / S2_0.\n",
    "\n",
    "Where: Si_0 := value of asset i, Si, @ time t=0.\n",
    "\n",
    "WLOG: A = 1. --> alpha = 1 / S1_0.  \n",
    "\n",
    "Now choose beta:  \n",
    "\n",
    "V1: arbitrarily choose B = 0.1 (for no particular reason)."
   ]
  },
  {
   "cell_type": "code",
   "execution_count": 22,
   "id": "a1c6a945-29cb-420f-9c62-3a1519214b19",
   "metadata": {},
   "outputs": [],
   "source": [
    "# (float, float, float, tuple)\n",
    "OUParams = namedtuple(\"ou_params\", \"theta mu sigma sigma_sq sums\")\n",
    "\n",
    "\n",
    "def calc_optimal_ou_params(x, dt):\n",
    "    n = x.shape[0]\n",
    "    \n",
    "    # 1. Define sums - all sums are from i=1:n\n",
    "\n",
    "    # x_{i-1} --> from 0:n-1 --> sum all but last value.\n",
    "    X_x = np.sum(x[:-1])\n",
    "\n",
    "    # x_{i} --> from 1:n --> sum all but 0th value.\n",
    "    X_y = np.sum(x[1:])\n",
    "\n",
    "    # (x_{i-1})^2\n",
    "    X_xx = np.sum(x[:-1]**2)\n",
    "\n",
    "    # (x_{i})^2\n",
    "    X_yy = np.sum(x[1:]**2)\n",
    "\n",
    "    # x_{i-1} * x_{i}\n",
    "    X_xy = np.sum(x[:-1]*x[1:])\n",
    "\n",
    "    \n",
    "    # 2. Optimal OU Parameters, given (alpha, beta). Explicit solution to MLE.\n",
    "    \n",
    "    # Long-run mean: theta\n",
    "    theta = (X_y*X_xx - X_x*X_xy) / (n*(X_xx - X_xy) - (X_x**2 - X_x*X_y))\n",
    "    \n",
    "    # Speed of mean reversion: mu\n",
    "    phi = (X_xy - theta*(X_x + X_y) + n*(theta**2)) / (X_xx - 2*theta*X_x + n*(theta**2))\n",
    "    mu = -np.log(phi) / dt\n",
    "    \n",
    "    assert phi < 1.0, \"Plot ln(x), e.g. Wolfram.\"\n",
    "    assert mu > 0.0, \"Speed of MR must be postive.\"\n",
    "    \n",
    "    # Volatility parameter: sigma. Cleaner to find sigma_sq first, then take sqrt.\n",
    "    a = n*(1.0 - np.exp(-2.0*mu*dt))\n",
    "    b = X_yy - 2.0*np.exp(-mu*dt)*X_xy + np.exp(-2.0*mu*dt)*X_xx - 2.0*theta*(1.0 - np.exp(-mu*dt))*(X_y - np.exp(-mu*dt)*X_x) + n*(theta**2)*( (1 - np.exp(-mu*dt))**2 )\n",
    "\n",
    "    sigma_sq = 2*mu*b/a\n",
    "    assert sigma_sq > 0.0, \"Vol_sq of MR must be postive.\"\n",
    "    \n",
    "    sigma = np.sqrt(sigma_sq)\n",
    "    \n",
    "    return OUParams(theta, mu, sigma, sigma_sq, (X_x, X_y, X_xx, X_yy, X_xy))\n",
    "\n",
    "\n",
    "def log_likelihood_ou(theta, mu, sigma_sq, x, dt):\n",
    "    n = x.shape[0]\n",
    "    \n",
    "    # tau := sigma_tilde in the paper.\n",
    "    tau_sq = sigma_sq*(1 - np.exp(-2.0*mu*dt))/(2.0*mu)\n",
    "    tau = np.sqrt(tau_sq)\n",
    "\n",
    "    c = 1/(2.0*n*tau_sq)\n",
    "    \n",
    "    sq_sum = np.sum([(x[i] - x[i-1]*np.exp(-mu*dt) - theta*(1 - np.exp(-mu*dt)))**2 for i in range(1,n)])\n",
    "    log_likelihood = -0.5*np.log(2.0*math.pi) - np.log(tau) - c * sq_sum\n",
    "    \n",
    "    return log_likelihood"
   ]
  },
  {
   "cell_type": "code",
   "execution_count": 23,
   "id": "ae5bc454-d5f6-48de-8536-0bdfe13529f8",
   "metadata": {},
   "outputs": [
    {
     "data": {
      "text/plain": [
       "Text(0, 0.5, 'Log-Likelihood')"
      ]
     },
     "execution_count": 23,
     "metadata": {},
     "output_type": "execute_result"
    },
    {
     "data": {
      "image/png": "[encoded data removed]",
      "text/plain": [
       "<Figure size 640x480 with 1 Axes>"
      ]
     },
     "metadata": {},
     "output_type": "display_data"
    }
   ],
   "source": [
    "# V1: brute force search over B. Do this until scale causes speed to be an issue.\n",
    "A = 1.0\n",
    "\n",
    "start = 0.001\n",
    "end = 2.0\n",
    "num = int(1/start)\n",
    "\n",
    "\n",
    "B_candidates = np.linspace(start, end, num)\n",
    "\n",
    "alpha = A / df[\"S1\"].iloc[0]\n",
    "\n",
    "# TODO: check this!  Might have to change dW inside OUModel - e.g. dW^2.\n",
    "dt = 1\n",
    "# dt = 60\n",
    "\n",
    "mus = []\n",
    "log_likelihoods = []\n",
    "for B in B_candidates:\n",
    "    beta = B / df[\"S2\"].iloc[0]\n",
    "\n",
    "    # Define:  X_t = alpha * S1_t - beta * S2_t\n",
    "    x = (alpha*df[\"S1\"] - beta*df[\"S2\"]).to_numpy()\n",
    "\n",
    "    ou = calc_optimal_ou_params(x, dt)\n",
    "    ll = log_likelihood_ou(theta=ou.theta, mu=ou.mu, sigma_sq=ou.sigma_sq, x=x, dt=dt)\n",
    "\n",
    "    log_likelihoods.append(ll)\n",
    "    mus.append(ou.mu)\n",
    "    \n",
    "    \n",
    "plt.plot(B_candidates, log_likelihoods)\n",
    "plt.xlabel(\"B\")\n",
    "plt.ylabel(\"Log-Likelihood\")"
   ]
  },
  {
   "cell_type": "code",
   "execution_count": 24,
   "id": "cfbd068f-bb84-4d1c-a29d-eee1b9baafb5",
   "metadata": {},
   "outputs": [
    {
     "data": {
      "text/plain": [
       "(0.7293643643643644, 4.846262788032056, 0.004337200678376092)"
      ]
     },
     "execution_count": 24,
     "metadata": {},
     "output_type": "execute_result"
    }
   ],
   "source": [
    "i = np.argmax(log_likelihoods)\n",
    "B_candidates[i], log_likelihoods[i], mus[i]"
   ]
  },
  {
   "cell_type": "code",
   "execution_count": 25,
   "id": "bc48ec4c-71e0-4e16-a23d-e5bc0f17d552",
   "metadata": {},
   "outputs": [
    {
     "data": {
      "text/plain": [
       "(1.0355175175175173, 4.477651611184008, 0.014522335732091966)"
      ]
     },
     "execution_count": 25,
     "metadata": {},
     "output_type": "execute_result"
    }
   ],
   "source": [
    "j = np.argmax(mus)\n",
    "B_candidates[j], log_likelihoods[j], mus[j]"
   ]
  },
  {
   "cell_type": "code",
   "execution_count": 26,
   "id": "179737b3-eb18-4530-b7dd-f0ee6580f4e1",
   "metadata": {},
   "outputs": [],
   "source": [
    "# To avoid having to store all of the OU Parameters for every candidate of B, re-run the optimal run to recover the OU Parameters.\n",
    "alpha = A / df[\"S1\"].iloc[0]\n",
    "beta = B_candidates[i] / df[\"S2\"].iloc[0]\n",
    "x = (alpha*df[\"S1\"] - beta*df[\"S2\"]).to_numpy()\n",
    "\n",
    "ou_params = calc_optimal_ou_params(x, dt)\n",
    "ll = log_likelihood_ou(theta=ou_params.theta, mu=ou_params.mu, sigma_sq=ou_params.sigma_sq, x=x, dt=dt)\n",
    "\n",
    "# Check nothing changed in the re-run\n",
    "assert ll == log_likelihoods[i]"
   ]
  },
  {
   "cell_type": "code",
   "execution_count": 27,
   "id": "f22d281b-ee0f-4166-adb1-bc9581b28457",
   "metadata": {},
   "outputs": [],
   "source": [
    "# Test the process by running through an OU Model\n",
    "\n",
    "from algo.sde.ornstein_uhlenbeck import OrnsteinUhlenbeck"
   ]
  },
  {
   "cell_type": "code",
   "execution_count": 28,
   "id": "e9764c2f-6f45-48f1-bee2-839328437078",
   "metadata": {},
   "outputs": [],
   "source": [
    "# TODO: update the signature of OU s.t. k becomes mu\n",
    "ou_model = OrnsteinUhlenbeck(theta=ou_params.theta, k=ou_params.mu, sigma=ou_params.sigma)\n",
    "ou_process_simulated = ou_model(num_samples=len(x))\n",
    "\n",
    "ou_params_sim = calc_optimal_ou_params(ou_process_simulated, dt)\n",
    "ll_sim = log_likelihood_ou(theta=ou_params_sim.theta, mu=ou_params_sim.mu, sigma_sq=ou_params_sim.sigma_sq, x=ou_process_simulated, dt=dt)"
   ]
  },
  {
   "cell_type": "code",
   "execution_count": 29,
   "id": "88695c4a-f24d-401e-aaf6-91b62a0b052c",
   "metadata": {},
   "outputs": [
    {
     "name": "stdout",
     "output_type": "stream",
     "text": [
      "pc diff theta = 5.008%\n",
      "pc diff mu    = 5.333%\n",
      "pc diff sigma = 5.073%\n",
      "pc diff ll    = -1.071%\n"
     ]
    }
   ],
   "source": [
    "# Want these differences to be as small as possible\n",
    "print(f\"pc diff theta = {100*(ou_params.theta - ou_params_sim.theta) / ou_params.theta:.3f}%\")\n",
    "print(f\"pc diff mu    = {100*(ou_params.mu - ou_params_sim.mu) / ou_params.mu:.3f}%\")\n",
    "print(f\"pc diff sigma = {100*(ou_params.sigma - ou_params_sim.sigma) / ou_params.sigma:.3f}%\")\n",
    "print(f\"pc diff ll    = {100*(ll - ll_sim) / ll:.3f}%\")"
   ]
  },
  {
   "cell_type": "code",
   "execution_count": null,
   "id": "c39471f9-b741-4320-bc24-3b6ee1548227",
   "metadata": {},
   "outputs": [],
   "source": []
  },
  {
   "cell_type": "code",
   "execution_count": null,
   "id": "6252ccdc-137b-4541-9190-c8c1068b4860",
   "metadata": {},
   "outputs": [],
   "source": []
  }
 ],
 "metadata": {
  "kernelspec": {
   "display_name": "ml",
   "language": "python",
   "name": "ml"
  },
  "language_info": {
   "codemirror_mode": {
    "name": "ipython",
    "version": 3
   },
   "file_extension": ".py",
   "mimetype": "text/x-python",
   "name": "python",
   "nbconvert_exporter": "python",
   "pygments_lexer": "ipython3",
   "version": "3.9.13"
  }
 },
 "nbformat": 4,
 "nbformat_minor": 5
}
