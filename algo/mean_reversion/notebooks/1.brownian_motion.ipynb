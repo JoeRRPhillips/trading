{
 "cells": [
  {
   "cell_type": "markdown",
   "id": "44e0c95b-5eaf-4d97-8fa1-44f6bf2bf467",
   "metadata": {},
   "source": [
    "#Brownian Motion\n",
    "\n",
    "Brownian Motion = a continuous process such that its increments for any time scale are drawn from a normal distribution.\n",
    "\n",
    "Take a continuous function of t: W = W(t).\n",
    "W is a Brownian motion (Wiener Process) if:\n",
    "1. W(0) = 0\n",
    "2. For all t_0 < t_1 < ... < t_n, \n",
    "the increments:\n",
    "\n",
    "W(t_1) - W(t_0), ... W(t_n) - W(t_[n-1]) are independent and normally distributed.\n",
    "\n",
    "--> Normal(mean = 0, var = t_[i+1] - t_i) ,  i.e. var is the time difference.\n",
    "\n",
    "If the increments are defined on a unit of time: var = 1."
   ]
  },
  {
   "cell_type": "code",
   "execution_count": 6,
   "id": "8edcd608-c503-40d4-86c1-f989ef576665",
   "metadata": {},
   "outputs": [],
   "source": [
    "import numpy as np\n",
    "\n",
    "\n",
    "np.random.seed(0)"
   ]
  },
  {
   "cell_type": "code",
   "execution_count": 10,
   "id": "f5ef4080-95b3-4fe7-b563-0436fa9e5796",
   "metadata": {},
   "outputs": [],
   "source": [
    "class BrownianMotion:\n",
    "    \n",
    "    def __init__(self, mean=0.0, std_dev=1.0):\n",
    "        self.mean = mean\n",
    "        self.std_dev = std_dev\n",
    "        \n",
    "    def dW(self, num_samples):\n",
    "        return np.random.normal(loc=self.mean, scale=self.std_dev, size=num_samples)\n",
    "    \n",
    "    def W(self, num_samples):\n",
    "        dW = self.dW(num_samples)\n",
    "        \n",
    "        # Integrate by cumulative sum\n",
    "        dW_sum = dW.cumsum()\n",
    "        \n",
    "        # Prepend W(0) = 0 and trim to `num_samples`.\n",
    "        return np.insert(dW_sum, 0, 0)[:-1]"
   ]
  },
  {
   "cell_type": "code",
   "execution_count": 31,
   "id": "6bcc2bb6-bf8d-47f6-ae82-7be6e8e1b081",
   "metadata": {},
   "outputs": [
    {
     "data": {
      "text/plain": [
       "array([0.        , 1.49407907, 1.28892081, 1.60198851])"
      ]
     },
     "execution_count": 31,
     "metadata": {},
     "output_type": "execute_result"
    }
   ],
   "source": [
    "bm = BrownianMotion()\n",
    "bm.W(4)"
   ]
  },
  {
   "cell_type": "code",
   "execution_count": null,
   "id": "59a7c84e-bc1b-44a0-a3a4-3360b87a639e",
   "metadata": {},
   "outputs": [],
   "source": []
  }
 ],
 "metadata": {
  "kernelspec": {
   "display_name": "ml",
   "language": "python",
   "name": "ml"
  },
  "language_info": {
   "codemirror_mode": {
    "name": "ipython",
    "version": 3
   },
   "file_extension": ".py",
   "mimetype": "text/x-python",
   "name": "python",
   "nbconvert_exporter": "python",
   "pygments_lexer": "ipython3",
   "version": "3.9.13"
  }
 },
 "nbformat": 4,
 "nbformat_minor": 5
}
