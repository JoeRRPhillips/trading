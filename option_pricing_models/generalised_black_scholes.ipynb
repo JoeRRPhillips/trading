{
 "cells": [
  {
   "cell_type": "code",
   "execution_count": 58,
   "id": "65f65f74-15d8-4819-a76f-fee7a6310d66",
   "metadata": {},
   "outputs": [],
   "source": [
    "import abc\n",
    "import numpy as np\n",
    "from collections import namedtuple\n",
    "from scipy.stats import norm\n",
    "\n",
    "\n",
    "# Inputs: \n",
    "#    F_t         = price of underlying\n",
    "#    X_t         = strike\n",
    "#    t           = time to expiration\n",
    "#    v           = implied volatility\n",
    "#    r           = risk free rate\n",
    "#    q           = dividend payment\n",
    "#    b           = cost of carry\n",
    "# Outputs: \n",
    "#    value       = price of the option\n",
    "#    delta       = 1st derivative of value w.r.t price of underlying\n",
    "#    gamma       = 2nd derivative of value w.r.t price of underlying\n",
    "#    theta       = 1st derivative of value w.r.t. time to expiration\n",
    "#    vega        = 1st derivative of value w.r.t. implied volatility\n",
    "#    rho         = 1st derivative of value w.r.t. risk free rates\n",
    "Greeks = namedtuple(\"greeks\", \"value delta gamma theta vega rho\")"
   ]
  },
  {
   "cell_type": "code",
   "execution_count": 59,
   "id": "d3739aa1-30a8-46c0-9a83-dc822c2d2f2d",
   "metadata": {},
   "outputs": [],
   "source": [
    "class GeneralisedEuropeanBlackScholes(abc.ABC):\n",
    "    \n",
    "    def __init__(self, F_t, X_t, t, r, b, sigma):\n",
    "        self.F_t = F_t\n",
    "        self.X_t = X_t\n",
    "        self.t = t\n",
    "        self.r = r\n",
    "        self.b = b\n",
    "        self.sigma = sigma\n",
    "        \n",
    "        # Pre-calculations\n",
    "        self.sqrt_t = np.sqrt(t)\n",
    "        self.d1 = (np.log(F_t/X_t) + (b + np.square(sigma)/2) * t) / (sigma * self.sqrt_t)\n",
    "        self.d2 = self.d1 - sigma * self.sqrt_t\n",
    "        \n",
    "    def call(self):\n",
    "        # Unpack for readable equations\n",
    "        F_t = self.F_t\n",
    "        X_t = self.X_t\n",
    "        t = self.t\n",
    "        r = self.r\n",
    "        b = self.b\n",
    "        sigma = self.sigma\n",
    "        d1 = self.d1\n",
    "        d2 = self.d2\n",
    "        sqrt_t = self.sqrt_t\n",
    "        \n",
    "        # Fair value price\n",
    "        value = F_t * np.exp((b - r)*t) * norm.cdf(d1) - X_t * np.exp(-r*t) * norm.cdf(d2)\n",
    "\n",
    "        # Greeks\n",
    "        delta = np.exp((b - r)*t) * norm.cdf(d1)\n",
    "        gamma = np.exp((b - r)*t) * norm.pdf(d1) / (F_t * sigma * sqrt_t)\n",
    "        theta = -(F_t * sigma * np.exp((b - r)*t) * norm.pdf(d1)) / (2*sqrt_t) - (b - r) * F_t * np.exp((b - r)*t) * norm.cdf(d1) - r * X_t * np.exp(-r * t) * norm.cdf(d2)\n",
    "        vega = np.exp((b - r)*t) * F_t * sqrt_t * norm.pdf(d1)\n",
    "        rho = X_t * t * np.exp(-r*t) * norm.cdf(d2)\n",
    "        \n",
    "        return Greeks(value, delta, gamma, theta, vega, rho)\n",
    "        \n",
    "        \n",
    "    def put(self):\n",
    "        # Unpack for readable equations\n",
    "        F_t = self.F_t\n",
    "        X_t = self.X_t\n",
    "        t = self.t\n",
    "        r = self.r\n",
    "        b = self.b\n",
    "        sigma = self.sigma\n",
    "        d1 = self.d1\n",
    "        d2 = self.d2\n",
    "        sqrt_t = self.sqrt_t\n",
    "        \n",
    "        # Fair value price\n",
    "        value = X_t * np.exp(-r*t) * norm.cdf(-d2) - (F_t * np.exp((b - r)*t) * norm.cdf(-d1))\n",
    "        \n",
    "        # Greeks\n",
    "        delta = -np.exp((b - r)*t) * norm.cdf(-d1)\n",
    "        gamma = np.exp((b - r)*t) * norm.pdf(d1) / (F_t * sigma * sqrt_t)\n",
    "        theta = -(F_t * sigma * np.exp((b - r)*t) * norm.pdf(d1)) / (2*sqrt_t) + (b - r) * F_t * np.exp((b - r)*t) * norm.cdf(-d1) + r * X_t * np.exp(-r*t) * norm.cdf(-d2)\n",
    "        vega = np.exp((b - r)*t) * F_t * sqrt_t * norm.pdf(d1)\n",
    "        rho = -X_t * t * np.exp(-r*t) * norm.cdf(-d2)\n",
    "\n",
    "        return Greeks(value, delta, gamma, theta, vega, rho)"
   ]
  },
  {
   "cell_type": "code",
   "execution_count": 60,
   "id": "7be09a14-fc4c-4bed-b609-2d5c1b9b5e69",
   "metadata": {},
   "outputs": [],
   "source": [
    "class Black76Eur(GeneralisedEuropeanBlackScholes):\n",
    "    \n",
    "    def __init__(self, F_t, X_t, t, r, sigma):\n",
    "        b = 0\n",
    "        super().__init__(F_t=F_t, X_t=X_t, t=t, r=r, b=b, sigma=sigma)"
   ]
  },
  {
   "cell_type": "code",
   "execution_count": 63,
   "id": "634341ef-3ba0-4348-ba16-69b6d915765f",
   "metadata": {},
   "outputs": [
    {
     "data": {
      "text/plain": [
       "(greeks(value=0.06213200829622734, delta=0.05223228374301364, gamma=0.03696551723344639, theta=-1.8457905813404705, vega=1.540229884726933, rho=0.2124568482378712),\n",
       " greeks(value=5.04549308856884, delta=-0.9444399323115097, gamma=0.03696551723344639, theta=-1.6464561381295657, vega=1.540229884726933, rho=-4.355624142012027))"
      ]
     },
     "execution_count": 63,
     "metadata": {},
     "output_type": "execute_result"
    }
   ],
   "source": [
    "F_t = 50\n",
    "X_t = 55\n",
    "t = 1/12\n",
    "r = 0.04\n",
    "sigma = 0.20\n",
    "\n",
    "\n",
    "black76 = Black76Eur(F_t=F_t, X_t=X_t, t=t, r=r, sigma=sigma)\n",
    "black76.call(), black76.put()"
   ]
  },
  {
   "cell_type": "code",
   "execution_count": null,
   "id": "082dfcf5-cdf6-468e-834a-256e03f23ab1",
   "metadata": {},
   "outputs": [],
   "source": []
  },
  {
   "cell_type": "code",
   "execution_count": null,
   "id": "d9a00426-8453-4d85-95de-669fc98b663a",
   "metadata": {},
   "outputs": [],
   "source": []
  },
  {
   "cell_type": "code",
   "execution_count": null,
   "id": "0e6f8f47-a128-4aba-9705-179d4e2e9139",
   "metadata": {},
   "outputs": [],
   "source": [
    "def euro_implied_vol_76(option_type, fs, x, t, r, cp):\n",
    "    b = 0\n",
    "    return _gbs_implied_vol(option_type, fs, x, t, r, b, cp)"
   ]
  },
  {
   "cell_type": "code",
   "execution_count": 64,
   "id": "53fbf9b1-4731-48e1-b98e-f6577e94cc42",
   "metadata": {},
   "outputs": [
    {
     "ename": "NameError",
     "evalue": "name 'scipy' is not defined",
     "output_type": "error",
     "traceback": [
      "\u001b[0;31m---------------------------------------------------------------------------\u001b[0m",
      "\u001b[0;31mNameError\u001b[0m                                 Traceback (most recent call last)",
      "Cell \u001b[0;32mIn [64], line 1\u001b[0m\n\u001b[0;32m----> 1\u001b[0m scipy\u001b[38;5;241m.\u001b[39moptimize\u001b[38;5;241m.\u001b[39mnewton\n",
      "\u001b[0;31mNameError\u001b[0m: name 'scipy' is not defined"
     ]
    }
   ],
   "source": [
    "scipy.optimize.newton\n",
    "\n",
    "# _gbs_implied_vol wraps:\n",
    "# _newton_implied_vol(_gbs, option_type, x, fs, t, b, r, cp, precision, max_steps)\n",
    "\n",
    "# -> def _gbs()...\n",
    "\n",
    "# _gbs is the equiv. of black76.call() and black76.put()"
   ]
  },
  {
   "cell_type": "code",
   "execution_count": null,
   "id": "d422959b-5f8f-496f-8dfc-4f000d320b6d",
   "metadata": {},
   "outputs": [],
   "source": []
  }
 ],
 "metadata": {
  "kernelspec": {
   "display_name": "ml",
   "language": "python",
   "name": "ml"
  },
  "language_info": {
   "codemirror_mode": {
    "name": "ipython",
    "version": 3
   },
   "file_extension": ".py",
   "mimetype": "text/x-python",
   "name": "python",
   "nbconvert_exporter": "python",
   "pygments_lexer": "ipython3",
   "version": "3.9.13"
  }
 },
 "nbformat": 4,
 "nbformat_minor": 5
}
