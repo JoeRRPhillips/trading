{
 "cells": [
  {
   "cell_type": "markdown",
   "id": "c49822d8-f54b-4539-aadd-cddb25fe2ae8",
   "metadata": {},
   "source": [
    "Black 76 Model for options on futures contracts, bonds and commodities."
   ]
  },
  {
   "cell_type": "code",
   "execution_count": 4,
   "id": "b2b387ed-528b-437d-9571-9af4faf375cb",
   "metadata": {},
   "outputs": [],
   "source": [
    "import functools\n",
    "import numpy as np\n",
    "from scipy import stats"
   ]
  },
  {
   "cell_type": "code",
   "execution_count": 47,
   "id": "c3909aae-7e32-4c31-afbc-330babdec6b0",
   "metadata": {},
   "outputs": [],
   "source": [
    "def _params_black76(F_t, X_t, t, r_free, sigma):\n",
    "    \"\"\"\n",
    "    Args:\n",
    "        F_t: futures price\n",
    "        X_t: options contract strike price\n",
    "        t: time to t\n",
    "        r_free: risk free rate\n",
    "        sigma: sigma\n",
    "    \"\"\"\n",
    "    d1 = (np.log(F_t/X_t) + 0.5*np.square(sigma)*t) / (sigma*np.sqrt(t))\n",
    "    d2 = (np.log(F_t/X_t) - 0.5*np.square(sigma)*t) / (sigma*np.sqrt(t))\n",
    "    \n",
    "    return d1, d2\n",
    "\n",
    "\n",
    "def call_black76(F_t, X_t, t, r_free, sigma, normal):\n",
    "    \"\"\"\n",
    "    Args:\n",
    "        F_t: futures price\n",
    "        X_t: options contract strike price\n",
    "        t: time to t\n",
    "        r_free: risk free rate\n",
    "        sigma: sigma\n",
    "        normal: CDF of normal distribution\n",
    "    \"\"\"\n",
    "    d1, d2 = _params_black76(F_t, X_t, t, r_free, sigma)\n",
    "    call_value = np.exp(-r_free * t) * (F_t * normal(d1) - X_t * normal(d2))\n",
    "    return call_value\n",
    "\n",
    "\n",
    "def put_black76(F_t, X_t, t, r_free, sigma, normal):\n",
    "    \"\"\"\n",
    "    Args:\n",
    "        F_t: futures price\n",
    "        X_t: options contract strike price\n",
    "        t: time to t\n",
    "        r_free: risk free rate\n",
    "        sigma: sigma\n",
    "        normal: CDF of normal distribution\n",
    "    \"\"\"\n",
    "    d1, d2 = _params_black76(F_t, X_t, t, r_free, sigma)\n",
    "    put_value = np.exp(-r_free * t) * (X_t * normal(-d2) - F_t * normal(-d1))\n",
    "    return put_value"
   ]
  },
  {
   "cell_type": "code",
   "execution_count": 50,
   "id": "375b8d0f-ddc7-4b7d-8878-694d53fb4187",
   "metadata": {},
   "outputs": [
    {
     "data": {
      "text/plain": [
       "(0.06213200829622736, 5.045493088568837)"
      ]
     },
     "execution_count": 50,
     "metadata": {},
     "output_type": "execute_result"
    }
   ],
   "source": [
    "F_t = 50\n",
    "X_t = 55\n",
    "t = 1/12\n",
    "r_free = 0.04\n",
    "sigma = 0.20\n",
    "\n",
    "\n",
    "normal = functools.partial(stats.norm.cdf, loc=0.0, scale=1.0)\n",
    "\n",
    "call_black76(F_t, X_t, t, r_free, sigma, normal), put_black76(F_t, X_t, t, r_free, sigma, normal)"
   ]
  }
 ],
 "metadata": {
  "kernelspec": {
   "display_name": "ml",
   "language": "python",
   "name": "ml"
  },
  "language_info": {
   "codemirror_mode": {
    "name": "ipython",
    "version": 3
   },
   "file_extension": ".py",
   "mimetype": "text/x-python",
   "name": "python",
   "nbconvert_exporter": "python",
   "pygments_lexer": "ipython3",
   "version": "3.9.13"
  }
 },
 "nbformat": 4,
 "nbformat_minor": 5
}
