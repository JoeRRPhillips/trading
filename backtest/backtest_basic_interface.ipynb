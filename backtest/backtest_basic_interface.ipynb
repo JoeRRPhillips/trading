{
 "cells": [
  {
   "cell_type": "code",
   "execution_count": 7,
   "id": "e0f50b69-25ad-4ec1-a4a1-5798cb67090d",
   "metadata": {},
   "outputs": [
    {
     "name": "stdout",
     "output_type": "stream",
     "text": [
      "[*********************100%***********************]  1 of 1 completed\n",
      "[*********************100%***********************]  1 of 1 completed\n"
     ]
    }
   ],
   "source": [
    "import backtrader as bt\n",
    "import backtrader.feeds as btfeeds\n",
    "\n",
    "import pandas as pd\n",
    "import yfinance as yf\n",
    "from datetime import date, timedelta\n",
    "\n",
    "\n",
    "interval = \"1h\"\n",
    "interval_map = {\n",
    "    \"1m\": timedelta(minutes=60*24*7),\n",
    "    \"1h\": timedelta(hours=24*90),\n",
    "    \"1d\": timedelta(days=365*1),   \n",
    "}\n",
    "\n",
    "ticker0 = \"BZ=F\"\n",
    "ticker1 = \"CL=F\"\n",
    "\n",
    "today = date.today()\n",
    "\n",
    "# Backtrader needs datetime objects\n",
    "end_date = today\n",
    "start_date = today - interval_map[interval]\n",
    "\n",
    "# Yahoo needs strings\n",
    "end_date_str = end_date.strftime(\"%Y-%m-%d\")\n",
    "start_date_str = start_date\n",
    "\n",
    "df0 = yf.download(ticker0, start=start_date_str, end=end_date_str, interval=interval)\n",
    "df1 = yf.download(ticker1, start=start_date_str, end=end_date_str, interval=interval)"
   ]
  },
  {
   "cell_type": "code",
   "execution_count": 8,
   "id": "ea1162b4-6bb0-49fb-add2-2a4d1244fed7",
   "metadata": {},
   "outputs": [],
   "source": [
    "# Shorten data while testing\n",
    "df0 = df0.tail(10)\n",
    "df1 = df1.tail(10)\n",
    "\n",
    "data_path0 = \"data/df1.csv\"\n",
    "data_path1 = \"data/df2.csv\"\n",
    "df0.to_csv(data_path0)\n",
    "df1.to_csv(data_path1)"
   ]
  },
  {
   "cell_type": "code",
   "execution_count": 10,
   "id": "733e158a-f338-4d92-a61f-3c4720dd9d84",
   "metadata": {},
   "outputs": [],
   "source": [
    "class OUPairsTradingStrategy(bt.Strategy):\n",
    "\n",
    "    def __init__(self):\n",
    "        print(self.position)\n",
    "        print(self.data)\n",
    "        \n",
    "    def next(self):\n",
    "        print(f\"Close 0 | {self.data0.close[0]} | {self.data1.close[0]} | Close 1\")"
   ]
  },
  {
   "cell_type": "code",
   "execution_count": 11,
   "id": "d1a393ae-584c-4627-b89b-1de5bb68f416",
   "metadata": {},
   "outputs": [
    {
     "name": "stdout",
     "output_type": "stream",
     "text": [
      "Starting Portfolio Value: 100.0\n",
      "--- Position Begin\n",
      "- Size: 0\n",
      "- Price: 0.0\n",
      "- Price orig: 0.0\n",
      "- Closed: 0\n",
      "- Opened: 0\n",
      "- Adjbase: None\n",
      "--- Position End\n",
      "<backtrader.feeds.yahoo.YahooFinanceCSVData object at 0x1232ae460>\n",
      "Close 0 | 94.66 | 88.3 | Close 1\n",
      "Close 0 | 93.62 | 87.26 | Close 1\n",
      "Close 0 | 93.2 | 86.65 | Close 1\n",
      "Close 0 | 93.35 | 86.78 | Close 1\n",
      "Close 0 | 93.59 | 86.81 | Close 1\n",
      "Close 0 | 92.91 | 86.14 | Close 1\n",
      "Close 0 | 92.65 | 85.75 | Close 1\n",
      "Close 0 | 92.44 | 85.62 | Close 1\n",
      "Close 0 | 92.4 | 85.64 | Close 1\n",
      "Close 0 | 92.57 | 85.81 | Close 1\n",
      "Final Portfolio Value: 100.0\n"
     ]
    }
   ],
   "source": [
    "cb = bt.Cerebro()\n",
    "\n",
    "# Add the data streams to the engine\n",
    "data0 = btfeeds.YahooFinanceCSVData(\n",
    "    dataname=data_path0,\n",
    "    fromdate=start_date,\n",
    "    todate=end_date,\n",
    ")\n",
    "cb.adddata(data0)\n",
    "\n",
    "data1 = btfeeds.YahooFinanceCSVData(\n",
    "    dataname=data_path1,\n",
    "    fromdate=start_date,\n",
    "    todate=end_date,\n",
    ")\n",
    "cb.adddata(data1)\n",
    "\n",
    "# Add the trading strategy to the engine\n",
    "cb.addstrategy(OUPairsTradingStrategy)\n",
    "\n",
    "# Set starting cash balance\n",
    "cb.broker.setcash(100.0)\n",
    "\n",
    "# Percentage commission - broker fees: 0.005 is 0.5%.\n",
    "cb.broker.setcommission(0.005)\n",
    "\n",
    "# Initial conditions\n",
    "print(f\"Starting Portfolio Value: {cb.broker.getvalue()}\")\n",
    "\n",
    "cb.run()\n",
    "\n",
    "# Result\n",
    "print(f\"Final Portfolio Value: {cb.broker.getvalue()}\")"
   ]
  },
  {
   "cell_type": "code",
   "execution_count": null,
   "id": "af25403b-3ac0-4435-8bf5-9fb0de4db498",
   "metadata": {},
   "outputs": [],
   "source": []
  }
 ],
 "metadata": {
  "kernelspec": {
   "display_name": "ml",
   "language": "python",
   "name": "ml"
  },
  "language_info": {
   "codemirror_mode": {
    "name": "ipython",
    "version": 3
   },
   "file_extension": ".py",
   "mimetype": "text/x-python",
   "name": "python",
   "nbconvert_exporter": "python",
   "pygments_lexer": "ipython3",
   "version": "3.9.13"
  }
 },
 "nbformat": 4,
 "nbformat_minor": 5
}
